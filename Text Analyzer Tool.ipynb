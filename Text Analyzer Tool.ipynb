{
 "cells": [
  {
   "cell_type": "markdown",
   "id": "55914440-18bd-4986-8d76-f827397272b6",
   "metadata": {},
   "source": [
    "# Text Analysis Automation Tool\n",
    "\n",
    "\n",
    "This notebook demonstrates how to build a simple automated Text Analysis Tool in Python through the following process.\n",
    "1. Convert text to lowercase\n",
    "2. Count frequency of all unique words\n",
    "3. Count frequency of a specific word\n"
   ]
  },
  {
   "cell_type": "markdown",
   "id": "0a9dc8f4-1be2-49de-945d-001d93ecef74",
   "metadata": {},
   "source": [
    "## Step 1: Define the Input Text\n",
    "We’ll start with a sample text that contains punctuation, capital letters, and repeated words."
   ]
  },
  {
   "cell_type": "code",
   "execution_count": 1,
   "id": "64641660-ec13-418a-826a-c32de1b723b3",
   "metadata": {},
   "outputs": [],
   "source": [
    "givenstring = \"Global markets showed strong growth in 2023. Inflation remained high, but central banks acted swiftly. Investors are optimistic about future growth, while concerns about unemployment and inflation continue. Economic growth is critical for stability.\""
   ]
  },
  {
   "cell_type": "markdown",
   "id": "f9a78534-4eba-4e7e-b11f-e32d93972756",
   "metadata": {},
   "source": [
    "## Step 2: Create the TextAnalyzer Class\n",
    "The class will:\n",
    " - Store the text in lowercase\n",
    " - Remove punctuation\n",
    " - Provide methods for:\n",
    " - Getting frequency of all words\n",
    " - Getting frequency of a specific word"
   ]
  },
  {
   "cell_type": "code",
   "execution_count": 2,
   "id": "0e6c32bc-70e5-46ce-aec3-4efbff662712",
   "metadata": {},
   "outputs": [],
   "source": [
    "class TextAnalyzer(object):\n",
    "    \n",
    "    def __init__(self, text):\n",
    "        # Remove punctuation\n",
    "        formatted_text = text.replace(\".\", ' ').replace('!', '').replace('?', '').replace(',', '')        \n",
    "        # Convert to lowercase\n",
    "        formatted_text = formatted_text.lower()\n",
    "        \n",
    "        # Save formatted text\n",
    "        self.fmtText = formatted_text\n",
    "        \n",
    "    def freqAll(self):        \n",
    "        # Split text into words\n",
    "        wordList = self.fmtText.split(' ')\n",
    "        \n",
    "        # Create frequency dictionary\n",
    "        freqMap = {}\n",
    "        for word in set(wordList):\n",
    "            freqMap[word] = wordList.count(word)\n",
    "        \n",
    "        return freqMap\n",
    "           \n",
    "    def freqOf(self, word):\n",
    "        # Get full frequency map\n",
    "        freq_map = self.freqAll()\n",
    "        \n",
    "        # Return count of the specific word (0 if not found)\n",
    "        return freq_map.get(word, 0)"
   ]
  },
  {
   "cell_type": "markdown",
   "id": "83a5f33c-640e-408f-923c-60c78ae6161f",
   "metadata": {},
   "source": [
    "\n",
    "## Step 3: Create an Instance of the Class\n",
    "We now create an object of TextAnalyzer with our given text."
   ]
  },
  {
   "cell_type": "code",
   "execution_count": 3,
   "id": "36c5d3c0-c727-4ccb-bff4-a6999d39bf4f",
   "metadata": {},
   "outputs": [],
   "source": [
    "analyzed = TextAnalyzer(givenstring)"
   ]
  },
  {
   "cell_type": "markdown",
   "id": "3fd93d89-b028-4f64-bb54-194d52cadb29",
   "metadata": {},
   "source": [
    "## Step 4: Display Formatted Text\n",
    "Check if the text has been correctly converted to lowercase and cleaned."
   ]
  },
  {
   "cell_type": "code",
   "execution_count": 4,
   "id": "48a3ec5a-b549-4a88-a4d6-fb8f4db4a43d",
   "metadata": {},
   "outputs": [
    {
     "name": "stdout",
     "output_type": "stream",
     "text": [
      "Formatted Text: global markets showed strong growth in 2023  inflation remained high but central banks acted swiftly  investors are optimistic about future growth while concerns about unemployment and inflation continue  economic growth is critical for stability \n"
     ]
    }
   ],
   "source": [
    "print(\"Formatted Text:\", analyzed.fmtText)"
   ]
  },
  {
   "cell_type": "markdown",
   "id": "53870a96-ef37-48e4-8c1a-07aa7c15d4a2",
   "metadata": {},
   "source": [
    "## Step 5: Word Frequency of All Words\n",
    "We now count the frequency of all unique words in the economic text.\n"
   ]
  },
  {
   "cell_type": "code",
   "execution_count": 5,
   "id": "55d58fee-e534-4651-a1b9-2e7854f0dd02",
   "metadata": {},
   "outputs": [
    {
     "name": "stdout",
     "output_type": "stream",
     "text": [
      "Word Frequency Map:\n",
      " {'': 4, 'in': 1, 'banks': 1, '2023': 1, 'future': 1, 'unemployment': 1, 'high': 1, 'remained': 1, 'acted': 1, 'swiftly': 1, 'showed': 1, 'strong': 1, 'markets': 1, 'global': 1, 'inflation': 2, 'is': 1, 'growth': 3, 'but': 1, 'investors': 1, 'critical': 1, 'optimistic': 1, 'continue': 1, 'while': 1, 'concerns': 1, 'for': 1, 'and': 1, 'central': 1, 'economic': 1, 'about': 2, 'stability': 1, 'are': 1}\n"
     ]
    }
   ],
   "source": [
    "freqMap = analyzed.freqAll()\n",
    "print(\"Word Frequency Map:\\n\", freqMap)"
   ]
  },
  {
   "cell_type": "markdown",
   "id": "77bd35f2-8444-4056-bbc3-a7ef0d1c4a24",
   "metadata": {},
   "source": [
    "## Step 6: Frequency of a Specific Word\n",
    "Finally, we check the frequency of a single word, for example \"growth\".\n"
   ]
  },
  {
   "cell_type": "code",
   "execution_count": 6,
   "id": "5d369e62-1c7d-447e-940b-625235ba54da",
   "metadata": {},
   "outputs": [
    {
     "name": "stdout",
     "output_type": "stream",
     "text": [
      "The word 'growth' occurs 3 times.\n"
     ]
    }
   ],
   "source": [
    "word = \"growth\"\n",
    "frequency = analyzed.freqOf(word)\n",
    "print(f\"The word '{word}' occurs {frequency} times.\")\n"
   ]
  },
  {
   "cell_type": "markdown",
   "id": "b4e8d526-2c79-4e4b-858c-4285dd92e1b1",
   "metadata": {},
   "source": [
    "## Summary\n",
    "- Converted text to lowercase\n",
    "- Removed punctuation\n",
    "- Counted frequency of all words\n",
    "- Counted frequency of a specific word\n",
    "\n",
    "\n",
    "## Possible Application Scopes for Text Analyzer\n",
    "\n",
    "- **Customer Feedback Analysis (Retail/E-commerce/Services)**  \n",
    "  *Input:* Customer reviews or surveys  \n",
    "  *Output:* Common issues (“delivery,” “quality”) & positive keywords (“fast,” “friendly”)  \n",
    "  *Use:* Identify strengths & weaknesses quickly  \n",
    "\n",
    "- **Employee Surveys & HR Reports**  \n",
    "  *Input:* Anonymous employee feedback  \n",
    "  *Output:* Themes like “workload,” “management,” “flexibility”  \n",
    "  *Use:* Summarize concerns without manual reading  \n",
    "\n",
    "- **Meeting / Interview Transcript Summarization**  \n",
    "  *Input:* Meeting minutes or transcripts  \n",
    "  *Output:* Main discussion topics & highlights  \n",
    "  *Use:* Quick summary for absentees  \n",
    "\n",
    "- **Research / News Report Analysis**  \n",
    "  *Input:* Articles, reports, whitepapers  \n",
    "  *Output:* Key trends, frequent entities, hot topics  \n",
    "  *Use:* Track developments in a field efficiently  \n",
    "\n",
    "- **Social Media Comment Summary**  \n",
    "  *Input:* Instagram, Reddit, Twitter/X comments  \n",
    "  *Output:* Trending words & sentiment (positive/negative)  \n",
    "  *Use:* Gauge public opinion for campaigns  \n",
    "\n",
    "- **Compliance / Audit Report Analysis**  \n",
    "  *Input:* Compliance reports or audit findings  \n",
    "  *Output:* Frequent issues (e.g., “KYC,” “AML,” “late filing”)  \n",
    "  *Use:* Prioritize risks & recurring problems  \n",
    "\n",
    "- **Academic Writing Helper**  \n",
    "  *Input:* Essay or research draft  \n",
    "  *Output:* Overused words, missing key terms  \n",
    "  *Use:* Improve writing clarity & technical depth  \n",
    "\n"
   ]
  },
  {
   "cell_type": "code",
   "execution_count": null,
   "id": "439caa0c-5cfc-46e7-81de-513e4ae37c58",
   "metadata": {},
   "outputs": [],
   "source": []
  }
 ],
 "metadata": {
  "kernelspec": {
   "display_name": "Python 3 (ipykernel)",
   "language": "python",
   "name": "python3"
  },
  "language_info": {
   "codemirror_mode": {
    "name": "ipython",
    "version": 3
   },
   "file_extension": ".py",
   "mimetype": "text/x-python",
   "name": "python",
   "nbconvert_exporter": "python",
   "pygments_lexer": "ipython3",
   "version": "3.9.13"
  }
 },
 "nbformat": 4,
 "nbformat_minor": 5
}
