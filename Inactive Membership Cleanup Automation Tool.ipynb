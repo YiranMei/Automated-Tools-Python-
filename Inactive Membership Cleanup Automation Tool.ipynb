{
 "cells": [
  {
   "cell_type": "markdown",
   "id": "7ff3f8bc-79e0-43db-bb06-12c620c795a7",
   "metadata": {},
   "source": [
    "# Inactive Membership Cleanup Automation Tool\n",
    "\n",
    "## Author\n",
    "Winifred Mei\n",
    "\n",
    "## Date\n",
    "2025-08-20\n",
    "\n",
    "## Overview\n",
    "This Python tool automates the cleanup of inactive members from a **website/shop membership list**.  \n",
    "\n",
    "- Active members remain in `current_members.txt`.  \n",
    "- Inactive members are archived into `inactive_members.txt`.  \n",
    "- File formatting and headers are preserved during the process.  \n"
   ]
  },
  {
   "cell_type": "markdown",
   "id": "50dbd061-c344-43fa-a912-48cc362b08de",
   "metadata": {},
   "source": [
    "## Step 1: Import Libraries"
   ]
  },
  {
   "cell_type": "code",
   "execution_count": 1,
   "id": "e2920afd-0fd7-466b-8ed7-1ed9d10505d9",
   "metadata": {},
   "outputs": [],
   "source": [
    "# Import random module to generate sample membership data\n",
    "from random import randint as rnd"
   ]
  },
  {
   "cell_type": "markdown",
   "id": "4fd31f45-e43b-4b4e-a2eb-650fd572233e",
   "metadata": {},
   "source": [
    "## Step 2: Define File Names and Status"
   ]
  },
  {
   "cell_type": "code",
   "execution_count": 2,
   "id": "0007c81f-2fde-433d-896d-d8db3bc9a3c7",
   "metadata": {},
   "outputs": [],
   "source": [
    "# File names for current and inactive membership lists\n",
    "current_members_file = 'current_members.txt'\n",
    "inactive_members_file = 'inactive_members.txt'\n",
    "\n",
    "# Status options for members\n",
    "status = ('yes', 'no')"
   ]
  },
  {
   "cell_type": "markdown",
   "id": "358399a6-7daa-43e6-9c62-8642581052a9",
   "metadata": {},
   "source": [
    "## Step 3: Generate Example Membership Files"
   ]
  },
  {
   "cell_type": "code",
   "execution_count": 3,
   "id": "fd68beb2-719e-49e9-871b-263d918befe4",
   "metadata": {},
   "outputs": [],
   "source": [
    "def generate_files(current_file, inactive_file):\n",
    "    \"\"\"\n",
    "    Generates example membership files for testing:\n",
    "    - current_file: current members (active and inactive)\n",
    "    - inactive_file: previously inactive members\n",
    "    \"\"\"\n",
    "    # Create current membership file\n",
    "    with open(current_file, 'w+') as f:\n",
    "        f.write('Membership ID  Date Joined  Active  \\n')\n",
    "        row_format = \"{:^13}  {:<11}  {:<6}\\n\"\n",
    "        for _ in range(20):\n",
    "            date = f\"{rnd(2015,2020)}-{rnd(1,12)}-{rnd(1,25)}\"\n",
    "            f.write(row_format.format(rnd(10000,99999), date, status[rnd(0,1)]))\n",
    "\n",
    "    # Create inactive membership file\n",
    "    with open(inactive_file, 'w+') as f:\n",
    "        f.write('Membership ID  Date Joined  Active  \\n')\n",
    "        row_format = \"{:^13}  {:<11}  {:<6}\\n\"\n",
    "        for _ in range(3):\n",
    "            date = f\"{rnd(2015,2020)}-{rnd(1,12)}-{rnd(1,25)}\"\n",
    "            f.write(row_format.format(rnd(10000,99999), date, status[1]))\n",
    "\n",
    "# Generate the files for demonstration\n",
    "generate_files(current_members_file, inactive_members_file)"
   ]
  },
  {
   "cell_type": "markdown",
   "id": "5fa45c60-2a9d-4c65-9bd4-e2e0f93eae81",
   "metadata": {},
   "source": [
    "## Step 4: Define Cleanup Function"
   ]
  },
  {
   "cell_type": "code",
   "execution_count": 4,
   "id": "19f4d319-3cae-4ce8-a3bd-6773c73d28ac",
   "metadata": {},
   "outputs": [],
   "source": [
    "def clean_membership_files(current_file, inactive_file):\n",
    "    \"\"\"\n",
    "    Removes inactive members ('no') from current_file\n",
    "    and appends them to inactive_file. Preserves headers\n",
    "    and file formatting.\n",
    "    \"\"\"\n",
    "    # Open current membership file\n",
    "    with open(current_file, 'r+') as current_f:\n",
    "        # Open inactive membership file in append mode\n",
    "        with open(inactive_file, 'a+') as inactive_f:\n",
    "            current_f.seek(0)\n",
    "            members = current_f.readlines()\n",
    "            header = members[0]  # Preserve header\n",
    "            members = members[1:]  # Exclude header\n",
    "\n",
    "            # Identify inactive members\n",
    "            inactive_members = [m for m in members if 'no' in m]\n",
    "\n",
    "            # Reset current membership file and write active members\n",
    "            current_f.seek(0)\n",
    "            current_f.write(header)\n",
    "            for m in members:\n",
    "                if m in inactive_members:\n",
    "                    inactive_f.write(m)\n",
    "                else:\n",
    "                    current_f.write(m)\n",
    "            current_f.truncate()  # Remove leftover lines\n"
   ]
  },
  {
   "cell_type": "markdown",
   "id": "49e3f00a-8c7c-4355-9ae1-400f90535bcb",
   "metadata": {},
   "source": [
    "## Step 5: Run Cleanup and Display Results"
   ]
  },
  {
   "cell_type": "code",
   "execution_count": 5,
   "id": "c3b82258-1381-49e3-bb5d-470cbc77204e",
   "metadata": {},
   "outputs": [
    {
     "name": "stdout",
     "output_type": "stream",
     "text": [
      "=== Active Members ===\n",
      "\n",
      "Membership ID  Date Joined  Active  \n",
      "    50336      2019-7-4     yes   \n",
      "    35751      2019-10-3    yes   \n",
      "    10577      2019-5-14    yes   \n",
      "    25687      2015-11-3    yes   \n",
      "    92639      2018-9-22    yes   \n",
      "    81781      2018-1-7     yes   \n",
      "    34034      2018-12-5    yes   \n",
      "    95224      2019-4-3     yes   \n",
      "    88061      2017-5-16    yes   \n",
      "    75819      2015-1-8     yes   \n",
      "    86464      2015-5-23    yes   \n",
      "    34150      2019-11-6    yes   \n",
      "    76985      2020-6-8     yes   \n",
      "    20737      2016-7-13    yes   \n",
      "\n",
      "=== Inactive Members ===\n",
      "\n",
      "Membership ID  Date Joined  Active  \n",
      "    89016      2019-8-16    no    \n",
      "    77745      2019-10-13   no    \n",
      "    71400      2016-4-2     no    \n",
      "    12098      2020-9-18    no    \n",
      "    13893      2016-9-2     no    \n",
      "    30021      2019-11-16   no    \n",
      "    35677      2017-9-20    no    \n",
      "    10884      2015-3-3     no    \n",
      "    65767      2015-3-14    no    \n",
      "\n"
     ]
    }
   ],
   "source": [
    "# Run the cleanup function\n",
    "clean_membership_files(current_members_file, inactive_members_file)\n",
    "\n",
    "# Display active members\n",
    "print(\"=== Active Members ===\\n\")\n",
    "with open(current_members_file, 'r') as f:\n",
    "    print(f.read())\n",
    "\n",
    "# Display inactive members\n",
    "print(\"=== Inactive Members ===\\n\")\n",
    "with open(inactive_members_file, 'r') as f:\n",
    "    print(f.read())\n"
   ]
  },
  {
   "cell_type": "markdown",
   "id": "1ad5bdfb-ad5e-4903-b58b-dde14f957b39",
   "metadata": {},
   "source": [
    "## Notes\n",
    "- The script preserves headers and formatting.\n",
    "- Only moves rows with `Active == 'no'` to the archive file.\n",
    "- Can be used for monthly maintenance of website/shop membership lists.\n"
   ]
  },
  {
   "cell_type": "code",
   "execution_count": null,
   "id": "860f3db3-ec45-49c6-9570-d37de334e95d",
   "metadata": {},
   "outputs": [],
   "source": []
  }
 ],
 "metadata": {
  "kernelspec": {
   "display_name": "Python 3 (ipykernel)",
   "language": "python",
   "name": "python3"
  },
  "language_info": {
   "codemirror_mode": {
    "name": "ipython",
    "version": 3
   },
   "file_extension": ".py",
   "mimetype": "text/x-python",
   "name": "python",
   "nbconvert_exporter": "python",
   "pygments_lexer": "ipython3",
   "version": "3.9.13"
  }
 },
 "nbformat": 4,
 "nbformat_minor": 5
}
